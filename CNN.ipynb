{
 "cells": [
  {
   "cell_type": "code",
   "execution_count": 2,
   "id": "3a5f46b2-7c61-465d-bfb1-c7a9359614aa",
   "metadata": {},
   "outputs": [
    {
     "name": "stdout",
     "output_type": "stream",
     "text": [
      "Device: cuda\n",
      "Using num_workers=0\n"
     ]
    }
   ],
   "source": [
    "# %%\n",
    "# Notebook-friendly imports & configuration\n",
    "\n",
    "from tqdm.notebook import tqdm\n",
    "import time, os, random, sys\n",
    "from pathlib import Path\n",
    "\n",
    "import numpy as np\n",
    "import matplotlib.pyplot as plt\n",
    "\n",
    "import torch\n",
    "import torch.nn as nn\n",
    "import torch.optim as optim\n",
    "import torchvision\n",
    "import torchvision.transforms as T\n",
    "from torchvision import models\n",
    "from torch.utils.tensorboard import SummaryWriter\n",
    "\n",
    "# -------------------- User-editable config --------------------\n",
    "DATA_DIR = \"./data\"\n",
    "CKPT_DIR = \"./ckpt\"\n",
    "LOG_DIR = \"./runs/exp1\"\n",
    "BATCH_SIZE = 128\n",
    "EPOCHS = 30\n",
    "LR = 0.1\n",
    "NUM_WORKERS = None\n",
    "SEED = 42\n",
    "USE_PRETRAINED = False  # whether to load ImageNet weights for the ResNet backbone\n",
    "RESUME_FROM = None  # set to a path to resume, e.g. './ckpt/best.pth'\n",
    "# ---------------------------------------------------------------\n",
    "\n",
    "# Reproducibility\n",
    "random.seed(SEED)\n",
    "np.random.seed(SEED)\n",
    "torch.manual_seed(SEED)\n",
    "if torch.cuda.is_available():\n",
    "    torch.cuda.manual_seed_all(SEED)\n",
    "\n",
    "device = torch.device(\"cuda\" if torch.cuda.is_available() else \"cpu\")\n",
    "print(\"Device:\", device)\n",
    "\n",
    "# Choose num_workers conservatively for notebooks\n",
    "if NUM_WORKERS is None:\n",
    "    if os.name == 'nt':\n",
    "        num_workers = 0  # safe for Windows/Jupyter\n",
    "    else:\n",
    "        # limit to a small number so notebook remains responsive\n",
    "        num_workers = min(4, (os.cpu_count() or 2) - 1)\n",
    "else:\n",
    "    num_workers = NUM_WORKERS\n",
    "\n",
    "print(f\"Using num_workers={num_workers}\")\n",
    "\n",
    "# create dirs\n",
    "Path(DATA_DIR).mkdir(parents=True, exist_ok=True)\n",
    "Path(CKPT_DIR).mkdir(parents=True, exist_ok=True)\n",
    "Path(LOG_DIR).mkdir(parents=True, exist_ok=True)"
   ]
  },
  {
   "cell_type": "code",
   "execution_count": 3,
   "id": "ee0e2a3f-4cd8-464e-a947-0197705bde0f",
   "metadata": {},
   "outputs": [
    {
     "name": "stdout",
     "output_type": "stream",
     "text": [
      "Downloading / preparing CIFAR-10 (may take a minute)...\n",
      "Files already downloaded and verified\n",
      "Files already downloaded and verified\n",
      "Train size: 50000  Val size: 10000\n"
     ]
    }
   ],
   "source": [
    "# %%\n",
    "# Data transforms and dataloders\n",
    "\n",
    "mean = (0.4914, 0.4822, 0.4465)\n",
    "std  = (0.2470, 0.2435, 0.2616)\n",
    "\n",
    "train_tf = T.Compose([\n",
    "    T.RandomCrop(32, padding=4),\n",
    "    T.RandomHorizontalFlip(),\n",
    "    T.ToTensor(),\n",
    "    T.Normalize(mean, std)\n",
    "])\n",
    "\n",
    "test_tf = T.Compose([\n",
    "    T.ToTensor(),\n",
    "    T.Normalize(mean, std)\n",
    "])\n",
    "\n",
    "print(\"Downloading / preparing CIFAR-10 (may take a minute)...\")\n",
    "\n",
    "train_ds = torchvision.datasets.CIFAR10(root=DATA_DIR, train=True, download=True, transform=train_tf)\n",
    "val_ds = torchvision.datasets.CIFAR10(root=DATA_DIR, train=False, download=True, transform=test_tf)\n",
    "\n",
    "train_loader = torch.utils.data.DataLoader(train_ds, batch_size=BATCH_SIZE, shuffle=True, num_workers=num_workers, pin_memory=True)\n",
    "val_loader = torch.utils.data.DataLoader(val_ds, batch_size=BATCH_SIZE, shuffle=False, num_workers=num_workers, pin_memory=True)\n",
    "\n",
    "print(f\"Train size: {len(train_ds)}  Val size: {len(val_ds)}\")"
   ]
  },
  {
   "cell_type": "code",
   "execution_count": 5,
   "id": "d9fca2f7-2cfa-4343-9ff1-a314bb939367",
   "metadata": {},
   "outputs": [],
   "source": [
    "# %%\n",
    "# Model, loss, optimizer, scheduler\n",
    "\n",
    "def make_model(num_classes=10, pretrained=USE_PRETRAINED):\n",
    "    model = models.resnet18(pretrained=pretrained)\n",
    "\n",
    "    # adapt first conv for 32x32 images and remove maxpool\n",
    "    model.conv1 = nn.Conv2d(3, 64, kernel_size=3, stride=1, padding=1, bias=False)\n",
    "    model.maxpool = nn.Identity()\n",
    "    \n",
    "    model.fc = nn.Linear(model.fc.in_features, num_classes)\n",
    "    return model\n",
    "\n",
    "model = make_model().to(device)\n",
    "criterion = nn.CrossEntropyLoss()\n",
    "optimizer = optim.SGD(model.parameters(), lr=LR, momentum=0.9, weight_decay=5e-4)\n",
    "scheduler = optim.lr_scheduler.CosineAnnealingLR(optimizer, T_max=EPOCHS)"
   ]
  },
  {
   "cell_type": "code",
   "execution_count": 4,
   "id": "985046f4-f683-4071-a399-bbf006b0e141",
   "metadata": {},
   "outputs": [],
   "source": [
    "# %%\n",
    "# Training and evaluation functions (notebook-friendly)\n",
    "\n",
    "def train_epoch(model, loader, criterion, optimizer, device, epoch, log_every=200):\n",
    "    model.train()\n",
    "    running_loss = 0.0\n",
    "    correct = 0\n",
    "    total = 0\n",
    "    pbar = tqdm(loader, desc=f\"Train E{epoch}\")\n",
    "\n",
    "    for i, (images, targets) in enumerate(pbar):\n",
    "        images = images.to(device)\n",
    "        targets = targets.to(device)\n",
    "\n",
    "        optimizer.zero_grad()\n",
    "        outputs = model(images)\n",
    "        loss = criterion(outputs, targets)\n",
    "        loss.backward()\n",
    "        optimizer.step()\n",
    "\n",
    "        running_loss += loss.item() * images.size(0)\n",
    "        preds = outputs.argmax(dim=1)\n",
    "        correct += (preds == targets).sum().item()\n",
    "        total += targets.size(0)\n",
    "\n",
    "        if (i+1) % log_every == 0:\n",
    "            pbar.set_postfix(train_loss=running_loss/total, train_acc=correct/total)\n",
    "\n",
    "    avg_loss = running_loss / total\n",
    "    acc = correct / total\n",
    "        \n",
    "    return avg_loss, acc\n",
    "\n",
    "\n",
    "def eval_epoch(model, loader, criterion, device):\n",
    "    model.eval()\n",
    "    running_loss = 0.0\n",
    "    correct = 0\n",
    "    total = 0\n",
    "\n",
    "    with torch.no_grad():\n",
    "        for images, targets in tqdm(loader, desc=\"Val\"):\n",
    "            images = images.to(device)\n",
    "            targets = targets.to(device)\n",
    "            outputs = model(images)\n",
    "            loss = criterion(outputs, targets)\n",
    "\n",
    "            running_loss += loss.item() * images.size(0)\n",
    "            preds = outputs.argmax(dim=1)\n",
    "            correct += (preds == targets).sum().item()\n",
    "            total += targets.size(0)\n",
    "\n",
    "    avg_loss = running_loss / total\n",
    "    acc = correct / total\n",
    "    \n",
    "    return avg_loss, acc"
   ]
  },
  {
   "cell_type": "code",
   "execution_count": 5,
   "id": "cdd61b99-3469-4f5b-a0db-00f016caa24b",
   "metadata": {},
   "outputs": [
    {
     "name": "stdout",
     "output_type": "stream",
     "text": [
      "Sample batch shapes: torch.Size([128, 3, 32, 32]) torch.Size([128])\n"
     ]
    },
    {
     "data": {
      "image/png": "[encoded data removed]",
      "text/plain": [
       "<Figure size 1600x200 with 8 Axes>"
      ]
     },
     "metadata": {},
     "output_type": "display_data"
    }
   ],
   "source": [
    "# %%\n",
    "# Utilities: checkpointing, visualizations\n",
    "\n",
    "def save_checkpoint(state, path):\n",
    "    torch.save(state, path)\n",
    "\n",
    "\n",
    "def load_checkpoint(path, model, optimizer=None, scheduler=None, map_location=None):\n",
    "    ckpt = torch.load(path, map_location=map_location)\n",
    "    model.load_state_dict(ckpt.get('model_state', ckpt))\n",
    "    if optimizer and 'optimizer_state' in ckpt:\n",
    "        optimizer.load_state_dict(ckpt['optimizer_state'])\n",
    "    if scheduler and 'scheduler_state' in ckpt:\n",
    "        scheduler.load_state_dict(ckpt['scheduler_state'])\n",
    "    return ckpt\n",
    "\n",
    "\n",
    "# small helper to show a batch of (unnormalized) images with labels\n",
    "def imshow_batch(images, labels, classes, mean=mean, std=std, max_images=8):\n",
    "    # images: tensor [B,C,H,W]\n",
    "    images = images.cpu().numpy()\n",
    "    B = min(images.shape[0], max_images)\n",
    "    fig, axes = plt.subplots(1, B, figsize=(2*B,2))\n",
    "    if B == 1:\n",
    "        axes = [axes]\n",
    "    for i in range(B):\n",
    "        img = images[i].transpose(1,2,0)\n",
    "        img = (img * np.array(std)) + np.array(mean)\n",
    "        img = np.clip(img, 0, 1)\n",
    "        axes[i].imshow(img)\n",
    "        axes[i].set_title(classes[labels[i]])\n",
    "        axes[i].axis('off')\n",
    "    plt.show()\n",
    "\n",
    "# class names for CIFAR-10\n",
    "classes = train_ds.classes if hasattr(train_ds, 'classes') else [str(i) for i in range(10)]\n",
    "\n",
    "# show a quick sample batch\n",
    "batch = next(iter(train_loader))\n",
    "imgs, labs = batch\n",
    "print(\"Sample batch shapes:\", imgs.shape, labs.shape)\n",
    "imshow_batch(imgs, labs.squeeze(), classes)"
   ]
  },
  {
   "cell_type": "code",
   "execution_count": 7,
   "id": "641b2598-28cd-4aad-a890-584d9822e5c6",
   "metadata": {},
   "outputs": [
    {
     "data": {
      "application/vnd.jupyter.widget-view+json": {
       "model_id": "1580cda011644c90badbdd579dfd5fbd",
       "version_major": 2,
       "version_minor": 0
      },
      "text/plain": [
       "Train E1:   0%|          | 0/391 [00:00<?, ?it/s]"
      ]
     },
     "metadata": {},
     "output_type": "display_data"
    },
    {
     "data": {
      "application/vnd.jupyter.widget-view+json": {
       "model_id": "429fe2c9b5d94bd3b07f1e258dc846a5",
       "version_major": 2,
       "version_minor": 0
      },
      "text/plain": [
       "Val:   0%|          | 0/79 [00:00<?, ?it/s]"
      ]
     },
     "metadata": {},
     "output_type": "display_data"
    },
    {
     "name": "stdout",
     "output_type": "stream",
     "text": [
      "Epoch 01/30  train_loss=1.3922 train_acc=0.4861  val_loss=1.2896 val_acc=0.5398  time=91.9s  lr=9.973e-02\n"
     ]
    },
    {
     "data": {
      "application/vnd.jupyter.widget-view+json": {
       "model_id": "e21f529c9936417eac587a08660cd245",
       "version_major": 2,
       "version_minor": 0
      },
      "text/plain": [
       "Train E2:   0%|          | 0/391 [00:00<?, ?it/s]"
      ]
     },
     "metadata": {},
     "output_type": "display_data"
    },
    {
     "data": {
      "application/vnd.jupyter.widget-view+json": {
       "model_id": "4741acf0edeb4c71a7d68afeed588ebc",
       "version_major": 2,
       "version_minor": 0
      },
      "text/plain": [
       "Val:   0%|          | 0/79 [00:00<?, ?it/s]"
      ]
     },
     "metadata": {},
     "output_type": "display_data"
    },
    {
     "name": "stdout",
     "output_type": "stream",
     "text": [
      "Epoch 02/30  train_loss=1.0999 train_acc=0.6060  val_loss=1.0621 val_acc=0.6235  time=92.7s  lr=9.891e-02\n"
     ]
    },
    {
     "data": {
      "application/vnd.jupyter.widget-view+json": {
       "model_id": "8a6fb34494f34200b0815ac261f3348b",
       "version_major": 2,
       "version_minor": 0
      },
      "text/plain": [
       "Train E3:   0%|          | 0/391 [00:00<?, ?it/s]"
      ]
     },
     "metadata": {},
     "output_type": "display_data"
    },
    {
     "data": {
      "application/vnd.jupyter.widget-view+json": {
       "model_id": "19731ca8bca14ae7b1336898b84d36a3",
       "version_major": 2,
       "version_minor": 0
      },
      "text/plain": [
       "Val:   0%|          | 0/79 [00:00<?, ?it/s]"
      ]
     },
     "metadata": {},
     "output_type": "display_data"
    },
    {
     "name": "stdout",
     "output_type": "stream",
     "text": [
      "Epoch 03/30  train_loss=0.8925 train_acc=0.6839  val_loss=0.9592 val_acc=0.6709  time=93.8s  lr=9.755e-02\n"
     ]
    },
    {
     "data": {
      "application/vnd.jupyter.widget-view+json": {
       "model_id": "e5df66011290460b93a7e81560052518",
       "version_major": 2,
       "version_minor": 0
      },
      "text/plain": [
       "Train E4:   0%|          | 0/391 [00:00<?, ?it/s]"
      ]
     },
     "metadata": {},
     "output_type": "display_data"
    },
    {
     "data": {
      "application/vnd.jupyter.widget-view+json": {
       "model_id": "af6d2101389844a682f3558698df082c",
       "version_major": 2,
       "version_minor": 0
      },
      "text/plain": [
       "Val:   0%|          | 0/79 [00:00<?, ?it/s]"
      ]
     },
     "metadata": {},
     "output_type": "display_data"
    },
    {
     "name": "stdout",
     "output_type": "stream",
     "text": [
      "Epoch 04/30  train_loss=0.7448 train_acc=0.7394  val_loss=0.8498 val_acc=0.7114  time=93.7s  lr=9.568e-02\n"
     ]
    },
    {
     "data": {
      "application/vnd.jupyter.widget-view+json": {
       "model_id": "13ca1a58d67b4fd59a55dbc818428f50",
       "version_major": 2,
       "version_minor": 0
      },
      "text/plain": [
       "Train E5:   0%|          | 0/391 [00:00<?, ?it/s]"
      ]
     },
     "metadata": {},
     "output_type": "display_data"
    },
    {
     "data": {
      "application/vnd.jupyter.widget-view+json": {
       "model_id": "d5c10eca821d47a5b3166a4227fa6af7",
       "version_major": 2,
       "version_minor": 0
      },
      "text/plain": [
       "Val:   0%|          | 0/79 [00:00<?, ?it/s]"
      ]
     },
     "metadata": {},
     "output_type": "display_data"
    },
    {
     "name": "stdout",
     "output_type": "stream",
     "text": [
      "Epoch 05/30  train_loss=0.6462 train_acc=0.7758  val_loss=0.9373 val_acc=0.7061  time=94.3s  lr=9.330e-02\n"
     ]
    },
    {
     "data": {
      "application/vnd.jupyter.widget-view+json": {
       "model_id": "e8399b25391c4244b045150e9ee629a2",
       "version_major": 2,
       "version_minor": 0
      },
      "text/plain": [
       "Train E6:   0%|          | 0/391 [00:00<?, ?it/s]"
      ]
     },
     "metadata": {},
     "output_type": "display_data"
    },
    {
     "data": {
      "application/vnd.jupyter.widget-view+json": {
       "model_id": "36d8028bce654d5aaefcc617f4a475d7",
       "version_major": 2,
       "version_minor": 0
      },
      "text/plain": [
       "Val:   0%|          | 0/79 [00:00<?, ?it/s]"
      ]
     },
     "metadata": {},
     "output_type": "display_data"
    },
    {
     "name": "stdout",
     "output_type": "stream",
     "text": [
      "Epoch 06/30  train_loss=0.5788 train_acc=0.8014  val_loss=1.0999 val_acc=0.6437  time=95.1s  lr=9.045e-02\n"
     ]
    },
    {
     "data": {
      "application/vnd.jupyter.widget-view+json": {
       "model_id": "197723f1537648c4a90bdb7317f8315c",
       "version_major": 2,
       "version_minor": 0
      },
      "text/plain": [
       "Train E7:   0%|          | 0/391 [00:00<?, ?it/s]"
      ]
     },
     "metadata": {},
     "output_type": "display_data"
    },
    {
     "data": {
      "application/vnd.jupyter.widget-view+json": {
       "model_id": "1310004593e24bed831c33f04d7ff635",
       "version_major": 2,
       "version_minor": 0
      },
      "text/plain": [
       "Val:   0%|          | 0/79 [00:00<?, ?it/s]"
      ]
     },
     "metadata": {},
     "output_type": "display_data"
    },
    {
     "name": "stdout",
     "output_type": "stream",
     "text": [
      "Epoch 07/30  train_loss=0.5264 train_acc=0.8178  val_loss=0.6629 val_acc=0.7771  time=99.9s  lr=8.716e-02\n"
     ]
    },
    {
     "data": {
      "application/vnd.jupyter.widget-view+json": {
       "model_id": "ba230b4d55cd4e31b7f932bc007ae369",
       "version_major": 2,
       "version_minor": 0
      },
      "text/plain": [
       "Train E8:   0%|          | 0/391 [00:00<?, ?it/s]"
      ]
     },
     "metadata": {},
     "output_type": "display_data"
    },
    {
     "data": {
      "application/vnd.jupyter.widget-view+json": {
       "model_id": "2e02440af331444ab33915f73b5887c9",
       "version_major": 2,
       "version_minor": 0
      },
      "text/plain": [
       "Val:   0%|          | 0/79 [00:00<?, ?it/s]"
      ]
     },
     "metadata": {},
     "output_type": "display_data"
    },
    {
     "name": "stdout",
     "output_type": "stream",
     "text": [
      "Epoch 08/30  train_loss=0.5014 train_acc=0.8260  val_loss=0.5671 val_acc=0.8017  time=94.4s  lr=8.346e-02\n"
     ]
    },
    {
     "data": {
      "application/vnd.jupyter.widget-view+json": {
       "model_id": "37b49cbab634450da483244b71b313f3",
       "version_major": 2,
       "version_minor": 0
      },
      "text/plain": [
       "Train E9:   0%|          | 0/391 [00:00<?, ?it/s]"
      ]
     },
     "metadata": {},
     "output_type": "display_data"
    },
    {
     "data": {
      "application/vnd.jupyter.widget-view+json": {
       "model_id": "a3b078013f9241e688f2a309fb3675ad",
       "version_major": 2,
       "version_minor": 0
      },
      "text/plain": [
       "Val:   0%|          | 0/79 [00:00<?, ?it/s]"
      ]
     },
     "metadata": {},
     "output_type": "display_data"
    },
    {
     "name": "stdout",
     "output_type": "stream",
     "text": [
      "Epoch 09/30  train_loss=0.4671 train_acc=0.8402  val_loss=0.6226 val_acc=0.7919  time=94.7s  lr=7.939e-02\n"
     ]
    },
    {
     "data": {
      "application/vnd.jupyter.widget-view+json": {
       "model_id": "8f77dd490ff74c399e78712068dee703",
       "version_major": 2,
       "version_minor": 0
      },
      "text/plain": [
       "Train E10:   0%|          | 0/391 [00:00<?, ?it/s]"
      ]
     },
     "metadata": {},
     "output_type": "display_data"
    },
    {
     "data": {
      "application/vnd.jupyter.widget-view+json": {
       "model_id": "b1e95a4027434ed6a53f16f8a2669fe7",
       "version_major": 2,
       "version_minor": 0
      },
      "text/plain": [
       "Val:   0%|          | 0/79 [00:00<?, ?it/s]"
      ]
     },
     "metadata": {},
     "output_type": "display_data"
    },
    {
     "name": "stdout",
     "output_type": "stream",
     "text": [
      "Epoch 10/30  train_loss=0.4401 train_acc=0.8496  val_loss=0.5733 val_acc=0.8105  time=94.7s  lr=7.500e-02\n"
     ]
    },
    {
     "data": {
      "application/vnd.jupyter.widget-view+json": {
       "model_id": "a116042f2cb141c2b3d1f0b36550fed1",
       "version_major": 2,
       "version_minor": 0
      },
      "text/plain": [
       "Train E11:   0%|          | 0/391 [00:00<?, ?it/s]"
      ]
     },
     "metadata": {},
     "output_type": "display_data"
    },
    {
     "data": {
      "application/vnd.jupyter.widget-view+json": {
       "model_id": "6661853289334fadb159d846f169a74d",
       "version_major": 2,
       "version_minor": 0
      },
      "text/plain": [
       "Val:   0%|          | 0/79 [00:00<?, ?it/s]"
      ]
     },
     "metadata": {},
     "output_type": "display_data"
    },
    {
     "name": "stdout",
     "output_type": "stream",
     "text": [
      "Epoch 11/30  train_loss=0.4188 train_acc=0.8572  val_loss=0.5063 val_acc=0.8245  time=94.6s  lr=7.034e-02\n"
     ]
    },
    {
     "data": {
      "application/vnd.jupyter.widget-view+json": {
       "model_id": "36649df2fa6e4b3285fb549de569f0e2",
       "version_major": 2,
       "version_minor": 0
      },
      "text/plain": [
       "Train E12:   0%|          | 0/391 [00:00<?, ?it/s]"
      ]
     },
     "metadata": {},
     "output_type": "display_data"
    },
    {
     "data": {
      "application/vnd.jupyter.widget-view+json": {
       "model_id": "29afd3c3c0264272aec850f95f984ebf",
       "version_major": 2,
       "version_minor": 0
      },
      "text/plain": [
       "Val:   0%|          | 0/79 [00:00<?, ?it/s]"
      ]
     },
     "metadata": {},
     "output_type": "display_data"
    },
    {
     "name": "stdout",
     "output_type": "stream",
     "text": [
      "Epoch 12/30  train_loss=0.3907 train_acc=0.8642  val_loss=0.5059 val_acc=0.8281  time=94.8s  lr=6.545e-02\n"
     ]
    },
    {
     "data": {
      "application/vnd.jupyter.widget-view+json": {
       "model_id": "bee1ddb1ee7844ffa00dbbf36b022e56",
       "version_major": 2,
       "version_minor": 0
      },
      "text/plain": [
       "Train E13:   0%|          | 0/391 [00:00<?, ?it/s]"
      ]
     },
     "metadata": {},
     "output_type": "display_data"
    },
    {
     "data": {
      "application/vnd.jupyter.widget-view+json": {
       "model_id": "d70f9cd5483d491fad6c159c07e13f0e",
       "version_major": 2,
       "version_minor": 0
      },
      "text/plain": [
       "Val:   0%|          | 0/79 [00:00<?, ?it/s]"
      ]
     },
     "metadata": {},
     "output_type": "display_data"
    },
    {
     "name": "stdout",
     "output_type": "stream",
     "text": [
      "Epoch 13/30  train_loss=0.3652 train_acc=0.8731  val_loss=0.5290 val_acc=0.8276  time=94.5s  lr=6.040e-02\n"
     ]
    },
    {
     "data": {
      "application/vnd.jupyter.widget-view+json": {
       "model_id": "822f4ee4d7d34fa4a29cfaa539650ec7",
       "version_major": 2,
       "version_minor": 0
      },
      "text/plain": [
       "Train E14:   0%|          | 0/391 [00:00<?, ?it/s]"
      ]
     },
     "metadata": {},
     "output_type": "display_data"
    },
    {
     "data": {
      "application/vnd.jupyter.widget-view+json": {
       "model_id": "24195142e740433bba93795f517da268",
       "version_major": 2,
       "version_minor": 0
      },
      "text/plain": [
       "Val:   0%|          | 0/79 [00:00<?, ?it/s]"
      ]
     },
     "metadata": {},
     "output_type": "display_data"
    },
    {
     "name": "stdout",
     "output_type": "stream",
     "text": [
      "Epoch 14/30  train_loss=0.3442 train_acc=0.8820  val_loss=0.4127 val_acc=0.8614  time=94.5s  lr=5.523e-02\n"
     ]
    },
    {
     "data": {
      "application/vnd.jupyter.widget-view+json": {
       "model_id": "fe411e758df94e7ba926f5c6d20022cb",
       "version_major": 2,
       "version_minor": 0
      },
      "text/plain": [
       "Train E15:   0%|          | 0/391 [00:00<?, ?it/s]"
      ]
     },
     "metadata": {},
     "output_type": "display_data"
    },
    {
     "data": {
      "application/vnd.jupyter.widget-view+json": {
       "model_id": "aba0c588c1af4c9aa5147d68d179789a",
       "version_major": 2,
       "version_minor": 0
      },
      "text/plain": [
       "Val:   0%|          | 0/79 [00:00<?, ?it/s]"
      ]
     },
     "metadata": {},
     "output_type": "display_data"
    },
    {
     "name": "stdout",
     "output_type": "stream",
     "text": [
      "Epoch 15/30  train_loss=0.3221 train_acc=0.8903  val_loss=0.4274 val_acc=0.8570  time=94.7s  lr=5.000e-02\n"
     ]
    },
    {
     "data": {
      "application/vnd.jupyter.widget-view+json": {
       "model_id": "e58965e1442747cf892ab0b0e4b1e0cd",
       "version_major": 2,
       "version_minor": 0
      },
      "text/plain": [
       "Train E16:   0%|          | 0/391 [00:00<?, ?it/s]"
      ]
     },
     "metadata": {},
     "output_type": "display_data"
    },
    {
     "data": {
      "application/vnd.jupyter.widget-view+json": {
       "model_id": "1124f751ed0c4f40b39ea1154d55965f",
       "version_major": 2,
       "version_minor": 0
      },
      "text/plain": [
       "Val:   0%|          | 0/79 [00:00<?, ?it/s]"
      ]
     },
     "metadata": {},
     "output_type": "display_data"
    },
    {
     "name": "stdout",
     "output_type": "stream",
     "text": [
      "Epoch 16/30  train_loss=0.2900 train_acc=0.9019  val_loss=0.4855 val_acc=0.8469  time=95.6s  lr=4.477e-02\n"
     ]
    },
    {
     "data": {
      "application/vnd.jupyter.widget-view+json": {
       "model_id": "eaf049d95c584c9c9ce885978b9adf05",
       "version_major": 2,
       "version_minor": 0
      },
      "text/plain": [
       "Train E17:   0%|          | 0/391 [00:00<?, ?it/s]"
      ]
     },
     "metadata": {},
     "output_type": "display_data"
    },
    {
     "data": {
      "application/vnd.jupyter.widget-view+json": {
       "model_id": "8424fd5e3cb04a3fbe4348cd36cafd52",
       "version_major": 2,
       "version_minor": 0
      },
      "text/plain": [
       "Val:   0%|          | 0/79 [00:00<?, ?it/s]"
      ]
     },
     "metadata": {},
     "output_type": "display_data"
    },
    {
     "name": "stdout",
     "output_type": "stream",
     "text": [
      "Epoch 17/30  train_loss=0.2712 train_acc=0.9061  val_loss=0.3988 val_acc=0.8666  time=95.0s  lr=3.960e-02\n"
     ]
    },
    {
     "data": {
      "application/vnd.jupyter.widget-view+json": {
       "model_id": "5ef3597e92a848308ba7a55fbaf94ffe",
       "version_major": 2,
       "version_minor": 0
      },
      "text/plain": [
       "Train E18:   0%|          | 0/391 [00:00<?, ?it/s]"
      ]
     },
     "metadata": {},
     "output_type": "display_data"
    },
    {
     "data": {
      "application/vnd.jupyter.widget-view+json": {
       "model_id": "fa5560bfada04edca4c308e9d3008d28",
       "version_major": 2,
       "version_minor": 0
      },
      "text/plain": [
       "Val:   0%|          | 0/79 [00:00<?, ?it/s]"
      ]
     },
     "metadata": {},
     "output_type": "display_data"
    },
    {
     "name": "stdout",
     "output_type": "stream",
     "text": [
      "Epoch 18/30  train_loss=0.2529 train_acc=0.9147  val_loss=0.3638 val_acc=0.8813  time=94.7s  lr=3.455e-02\n"
     ]
    },
    {
     "data": {
      "application/vnd.jupyter.widget-view+json": {
       "model_id": "3719b4bc57d24d768f1a70117118057f",
       "version_major": 2,
       "version_minor": 0
      },
      "text/plain": [
       "Train E19:   0%|          | 0/391 [00:00<?, ?it/s]"
      ]
     },
     "metadata": {},
     "output_type": "display_data"
    },
    {
     "data": {
      "application/vnd.jupyter.widget-view+json": {
       "model_id": "82394f30f4f94e04b9ee8e7e39694eac",
       "version_major": 2,
       "version_minor": 0
      },
      "text/plain": [
       "Val:   0%|          | 0/79 [00:00<?, ?it/s]"
      ]
     },
     "metadata": {},
     "output_type": "display_data"
    },
    {
     "name": "stdout",
     "output_type": "stream",
     "text": [
      "Epoch 19/30  train_loss=0.2236 train_acc=0.9230  val_loss=0.3772 val_acc=0.8791  time=94.9s  lr=2.966e-02\n"
     ]
    },
    {
     "data": {
      "application/vnd.jupyter.widget-view+json": {
       "model_id": "8c4f08cdecb04a51b35cc04b49696142",
       "version_major": 2,
       "version_minor": 0
      },
      "text/plain": [
       "Train E20:   0%|          | 0/391 [00:00<?, ?it/s]"
      ]
     },
     "metadata": {},
     "output_type": "display_data"
    },
    {
     "data": {
      "application/vnd.jupyter.widget-view+json": {
       "model_id": "5b5f79a80b494372bca12f24add3b02d",
       "version_major": 2,
       "version_minor": 0
      },
      "text/plain": [
       "Val:   0%|          | 0/79 [00:00<?, ?it/s]"
      ]
     },
     "metadata": {},
     "output_type": "display_data"
    },
    {
     "name": "stdout",
     "output_type": "stream",
     "text": [
      "Epoch 20/30  train_loss=0.1981 train_acc=0.9317  val_loss=0.2996 val_acc=0.9008  time=95.2s  lr=2.500e-02\n"
     ]
    },
    {
     "data": {
      "application/vnd.jupyter.widget-view+json": {
       "model_id": "2097c12589cf4edca5c19d22c064b4c5",
       "version_major": 2,
       "version_minor": 0
      },
      "text/plain": [
       "Train E21:   0%|          | 0/391 [00:00<?, ?it/s]"
      ]
     },
     "metadata": {},
     "output_type": "display_data"
    },
    {
     "data": {
      "application/vnd.jupyter.widget-view+json": {
       "model_id": "124564d11658433d99d45c5392c1fb51",
       "version_major": 2,
       "version_minor": 0
      },
      "text/plain": [
       "Val:   0%|          | 0/79 [00:00<?, ?it/s]"
      ]
     },
     "metadata": {},
     "output_type": "display_data"
    },
    {
     "name": "stdout",
     "output_type": "stream",
     "text": [
      "Epoch 21/30  train_loss=0.1701 train_acc=0.9421  val_loss=0.2971 val_acc=0.9002  time=95.3s  lr=2.061e-02\n"
     ]
    },
    {
     "data": {
      "application/vnd.jupyter.widget-view+json": {
       "model_id": "af345e7bb3494c559fb2e70b46fdb4dc",
       "version_major": 2,
       "version_minor": 0
      },
      "text/plain": [
       "Train E22:   0%|          | 0/391 [00:00<?, ?it/s]"
      ]
     },
     "metadata": {},
     "output_type": "display_data"
    },
    {
     "data": {
      "application/vnd.jupyter.widget-view+json": {
       "model_id": "a43b80cd1cdd4d2b80d2077608620bae",
       "version_major": 2,
       "version_minor": 0
      },
      "text/plain": [
       "Val:   0%|          | 0/79 [00:00<?, ?it/s]"
      ]
     },
     "metadata": {},
     "output_type": "display_data"
    },
    {
     "name": "stdout",
     "output_type": "stream",
     "text": [
      "Epoch 22/30  train_loss=0.1423 train_acc=0.9510  val_loss=0.3133 val_acc=0.9029  time=95.1s  lr=1.654e-02\n"
     ]
    },
    {
     "data": {
      "application/vnd.jupyter.widget-view+json": {
       "model_id": "430e57e926b0457b94627297bded3cf7",
       "version_major": 2,
       "version_minor": 0
      },
      "text/plain": [
       "Train E23:   0%|          | 0/391 [00:00<?, ?it/s]"
      ]
     },
     "metadata": {},
     "output_type": "display_data"
    },
    {
     "data": {
      "application/vnd.jupyter.widget-view+json": {
       "model_id": "36450eb9524b4b9796571d7b4ab7cb66",
       "version_major": 2,
       "version_minor": 0
      },
      "text/plain": [
       "Val:   0%|          | 0/79 [00:00<?, ?it/s]"
      ]
     },
     "metadata": {},
     "output_type": "display_data"
    },
    {
     "name": "stdout",
     "output_type": "stream",
     "text": [
      "Epoch 23/30  train_loss=0.1175 train_acc=0.9600  val_loss=0.2723 val_acc=0.9140  time=95.2s  lr=1.284e-02\n"
     ]
    },
    {
     "data": {
      "application/vnd.jupyter.widget-view+json": {
       "model_id": "451f430803c34be6a5fc6e3306789979",
       "version_major": 2,
       "version_minor": 0
      },
      "text/plain": [
       "Train E24:   0%|          | 0/391 [00:00<?, ?it/s]"
      ]
     },
     "metadata": {},
     "output_type": "display_data"
    },
    {
     "data": {
      "application/vnd.jupyter.widget-view+json": {
       "model_id": "a0cae864419540c3b0ded4c7cf720cbf",
       "version_major": 2,
       "version_minor": 0
      },
      "text/plain": [
       "Val:   0%|          | 0/79 [00:00<?, ?it/s]"
      ]
     },
     "metadata": {},
     "output_type": "display_data"
    },
    {
     "name": "stdout",
     "output_type": "stream",
     "text": [
      "Epoch 24/30  train_loss=0.0925 train_acc=0.9693  val_loss=0.2697 val_acc=0.9165  time=94.9s  lr=9.549e-03\n"
     ]
    },
    {
     "data": {
      "application/vnd.jupyter.widget-view+json": {
       "model_id": "431557e3a0264c3dbf4c57e92ca6d1b6",
       "version_major": 2,
       "version_minor": 0
      },
      "text/plain": [
       "Train E25:   0%|          | 0/391 [00:00<?, ?it/s]"
      ]
     },
     "metadata": {},
     "output_type": "display_data"
    },
    {
     "data": {
      "application/vnd.jupyter.widget-view+json": {
       "model_id": "027010d60e29435da4991ed512666bdf",
       "version_major": 2,
       "version_minor": 0
      },
      "text/plain": [
       "Val:   0%|          | 0/79 [00:00<?, ?it/s]"
      ]
     },
     "metadata": {},
     "output_type": "display_data"
    },
    {
     "name": "stdout",
     "output_type": "stream",
     "text": [
      "Epoch 25/30  train_loss=0.0705 train_acc=0.9768  val_loss=0.2533 val_acc=0.9210  time=95.1s  lr=6.699e-03\n"
     ]
    },
    {
     "data": {
      "application/vnd.jupyter.widget-view+json": {
       "model_id": "1dec83d6e4e145c19e0ec74828531412",
       "version_major": 2,
       "version_minor": 0
      },
      "text/plain": [
       "Train E26:   0%|          | 0/391 [00:00<?, ?it/s]"
      ]
     },
     "metadata": {},
     "output_type": "display_data"
    },
    {
     "data": {
      "application/vnd.jupyter.widget-view+json": {
       "model_id": "42072178ec3d4f79b48440be34b4503d",
       "version_major": 2,
       "version_minor": 0
      },
      "text/plain": [
       "Val:   0%|          | 0/79 [00:00<?, ?it/s]"
      ]
     },
     "metadata": {},
     "output_type": "display_data"
    },
    {
     "name": "stdout",
     "output_type": "stream",
     "text": [
      "Epoch 26/30  train_loss=0.0526 train_acc=0.9832  val_loss=0.2334 val_acc=0.9277  time=95.2s  lr=4.323e-03\n"
     ]
    },
    {
     "data": {
      "application/vnd.jupyter.widget-view+json": {
       "model_id": "489ec966045847a5bb5033d146a3c085",
       "version_major": 2,
       "version_minor": 0
      },
      "text/plain": [
       "Train E27:   0%|          | 0/391 [00:00<?, ?it/s]"
      ]
     },
     "metadata": {},
     "output_type": "display_data"
    },
    {
     "data": {
      "application/vnd.jupyter.widget-view+json": {
       "model_id": "00b64882f7784e4eadc27d67e4f13ebc",
       "version_major": 2,
       "version_minor": 0
      },
      "text/plain": [
       "Val:   0%|          | 0/79 [00:00<?, ?it/s]"
      ]
     },
     "metadata": {},
     "output_type": "display_data"
    },
    {
     "name": "stdout",
     "output_type": "stream",
     "text": [
      "Epoch 27/30  train_loss=0.0380 train_acc=0.9883  val_loss=0.2327 val_acc=0.9297  time=94.6s  lr=2.447e-03\n"
     ]
    },
    {
     "data": {
      "application/vnd.jupyter.widget-view+json": {
       "model_id": "1abf830c1b14447799026c196edc788c",
       "version_major": 2,
       "version_minor": 0
      },
      "text/plain": [
       "Train E28:   0%|          | 0/391 [00:00<?, ?it/s]"
      ]
     },
     "metadata": {},
     "output_type": "display_data"
    },
    {
     "data": {
      "application/vnd.jupyter.widget-view+json": {
       "model_id": "55b71a627ca24b47a3e83653a6c0cadb",
       "version_major": 2,
       "version_minor": 0
      },
      "text/plain": [
       "Val:   0%|          | 0/79 [00:00<?, ?it/s]"
      ]
     },
     "metadata": {},
     "output_type": "display_data"
    },
    {
     "name": "stdout",
     "output_type": "stream",
     "text": [
      "Epoch 28/30  train_loss=0.0302 train_acc=0.9914  val_loss=0.2214 val_acc=0.9341  time=95.1s  lr=1.093e-03\n"
     ]
    },
    {
     "data": {
      "application/vnd.jupyter.widget-view+json": {
       "model_id": "842bdb1ba938494ba022664e3a7809ee",
       "version_major": 2,
       "version_minor": 0
      },
      "text/plain": [
       "Train E29:   0%|          | 0/391 [00:00<?, ?it/s]"
      ]
     },
     "metadata": {},
     "output_type": "display_data"
    },
    {
     "data": {
      "application/vnd.jupyter.widget-view+json": {
       "model_id": "92cf61a1ad72449795d79fcd62977f8c",
       "version_major": 2,
       "version_minor": 0
      },
      "text/plain": [
       "Val:   0%|          | 0/79 [00:00<?, ?it/s]"
      ]
     },
     "metadata": {},
     "output_type": "display_data"
    },
    {
     "name": "stdout",
     "output_type": "stream",
     "text": [
      "Epoch 29/30  train_loss=0.0259 train_acc=0.9930  val_loss=0.2206 val_acc=0.9344  time=94.9s  lr=2.739e-04\n"
     ]
    },
    {
     "data": {
      "application/vnd.jupyter.widget-view+json": {
       "model_id": "43be21afb4584454ad1bdfb2e5c24205",
       "version_major": 2,
       "version_minor": 0
      },
      "text/plain": [
       "Train E30:   0%|          | 0/391 [00:00<?, ?it/s]"
      ]
     },
     "metadata": {},
     "output_type": "display_data"
    },
    {
     "data": {
      "application/vnd.jupyter.widget-view+json": {
       "model_id": "35368bbdc8594063bb9710dcc707f3f7",
       "version_major": 2,
       "version_minor": 0
      },
      "text/plain": [
       "Val:   0%|          | 0/79 [00:00<?, ?it/s]"
      ]
     },
     "metadata": {},
     "output_type": "display_data"
    },
    {
     "name": "stdout",
     "output_type": "stream",
     "text": [
      "Epoch 30/30  train_loss=0.0222 train_acc=0.9944  val_loss=0.2208 val_acc=0.9346  time=95.1s  lr=0.000e+00\n"
     ]
    }
   ],
   "source": [
    "# %%\n",
    "# Training loop (notebook-friendly, saves checkpoints)\n",
    "\n",
    "best_val_acc = 0.0\n",
    "start_epoch = 1\n",
    "\n",
    "try:\n",
    "    for epoch in range(start_epoch, EPOCHS + 1):\n",
    "        t0 = time.time()\n",
    "        train_loss, train_acc = train_epoch(model, train_loader, criterion, optimizer, device, epoch, log_every=200)\n",
    "        val_loss, val_acc = eval_epoch(model, val_loader, criterion, device)\n",
    "        scheduler.step()\n",
    "\n",
    "        elapsed = time.time() - t0\n",
    "        print(f\"Epoch {epoch:02d}/{EPOCHS}  train_loss={train_loss:.4f} train_acc={train_acc:.4f}  val_loss={val_loss:.4f} val_acc={val_acc:.4f}  time={elapsed:.1f}s  lr={optimizer.param_groups[0]['lr']:.3e}\")\n",
    "\n",
    "        # save last\n",
    "        save_checkpoint({\n",
    "            'epoch': epoch,\n",
    "            'model_state': model.state_dict(),\n",
    "            'optimizer_state': optimizer.state_dict(),\n",
    "            'scheduler_state': scheduler.state_dict(),\n",
    "            'val_acc': val_acc,\n",
    "        }, os.path.join(CKPT_DIR, 'last.pth'))\n",
    "\n",
    "        # save best\n",
    "        if val_acc > best_val_acc:\n",
    "            best_val_acc = val_acc\n",
    "            save_checkpoint({\n",
    "                'epoch': epoch,\n",
    "                'model_state': model.state_dict(),\n",
    "                'optimizer_state': optimizer.state_dict(),\n",
    "                'scheduler_state': scheduler.state_dict(),\n",
    "                'val_acc': val_acc,\n",
    "            }, os.path.join(CKPT_DIR, 'best.pth'))\n",
    "\n",
    "except KeyboardInterrupt:\n",
    "    print(\"Interrupted — saving interrupt.pth\")\n",
    "    save_checkpoint({'epoch': epoch, 'model_state': model.state_dict(), 'optimizer_state': optimizer.state_dict(), 'val_acc': val_acc}, os.path.join(CKPT_DIR, 'interrupt.pth'))\n"
   ]
  },
  {
   "cell_type": "code",
   "execution_count": 8,
   "id": "62628062-c14b-4d14-94a2-e4abbb4d6848",
   "metadata": {},
   "outputs": [
    {
     "name": "stdout",
     "output_type": "stream",
     "text": [
      "Running a quick inference check (this uses the current model weights)...\n"
     ]
    },
    {
     "data": {
      "image/png": "[encoded data removed]",
      "text/plain": [
       "<Figure size 1600x200 with 8 Axes>"
      ]
     },
     "metadata": {},
     "output_type": "display_data"
    },
    {
     "name": "stdout",
     "output_type": "stream",
     "text": [
      "pred: cat  |  true: cat\n",
      "pred: ship  |  true: ship\n",
      "pred: ship  |  true: ship\n",
      "pred: airplane  |  true: airplane\n",
      "pred: frog  |  true: frog\n",
      "pred: frog  |  true: frog\n",
      "pred: automobile  |  true: automobile\n",
      "pred: frog  |  true: frog\n"
     ]
    }
   ],
   "source": [
    "# %%\n",
    "# Quick inference example: show some predictions from the validation set\n",
    "\n",
    "def predict_and_show(model, loader, device, classes, n_images=8):\n",
    "    model.eval()\n",
    "    with torch.no_grad():\n",
    "        images, targets = next(iter(loader))\n",
    "        images = images.to(device)\n",
    "        outputs = model(images)\n",
    "        preds = outputs.argmax(dim=1).cpu().numpy()\n",
    "        imgs = images.cpu()\n",
    "\n",
    "        targets = targets.squeeze().cpu().numpy()\n",
    "        imshow_batch(imgs, preds, classes, max_images=n_images)\n",
    "        # print pairs\n",
    "        for i in range(min(n_images, len(preds))):\n",
    "            print(f\"pred: {classes[preds[i]]}  |  true: {classes[targets[i]]}\")\n",
    "\n",
    "print(\"Running a quick inference check (this uses the current model weights)...\")\n",
    "predict_and_show(model, val_loader, device, classes, n_images=8)\n"
   ]
  }
 ],
 "metadata": {
  "kernelspec": {
   "display_name": "Python 3 (ipykernel)",
   "language": "python",
   "name": "python3"
  },
  "language_info": {
   "codemirror_mode": {
    "name": "ipython",
    "version": 3
   },
   "file_extension": ".py",
   "mimetype": "text/x-python",
   "name": "python",
   "nbconvert_exporter": "python",
   "pygments_lexer": "ipython3",
   "version": "3.12.11"
  }
 },
 "nbformat": 4,
 "nbformat_minor": 5
}
